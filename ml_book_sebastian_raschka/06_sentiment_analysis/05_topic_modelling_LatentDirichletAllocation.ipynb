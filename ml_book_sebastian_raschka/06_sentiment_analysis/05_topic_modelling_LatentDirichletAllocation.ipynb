{
 "cells": [
  {
   "cell_type": "code",
   "execution_count": 1,
   "metadata": {},
   "outputs": [
    {
     "data": {
      "text/html": [
       "<div>\n",
       "<style scoped>\n",
       "    .dataframe tbody tr th:only-of-type {\n",
       "        vertical-align: middle;\n",
       "    }\n",
       "\n",
       "    .dataframe tbody tr th {\n",
       "        vertical-align: top;\n",
       "    }\n",
       "\n",
       "    .dataframe thead th {\n",
       "        text-align: right;\n",
       "    }\n",
       "</style>\n",
       "<table border=\"1\" class=\"dataframe\">\n",
       "  <thead>\n",
       "    <tr style=\"text-align: right;\">\n",
       "      <th></th>\n",
       "      <th>review</th>\n",
       "      <th>sentiment</th>\n",
       "    </tr>\n",
       "  </thead>\n",
       "  <tbody>\n",
       "    <tr>\n",
       "      <th>0</th>\n",
       "      <td>This picture's following will only grow as tim...</td>\n",
       "      <td>1</td>\n",
       "    </tr>\n",
       "    <tr>\n",
       "      <th>1</th>\n",
       "      <td>John Candy. Need we say more? He is the main r...</td>\n",
       "      <td>0</td>\n",
       "    </tr>\n",
       "    <tr>\n",
       "      <th>2</th>\n",
       "      <td>This amazing documentary gives us a glimpse in...</td>\n",
       "      <td>1</td>\n",
       "    </tr>\n",
       "    <tr>\n",
       "      <th>3</th>\n",
       "      <td>Well, sadly, I can't help but feeling a little...</td>\n",
       "      <td>1</td>\n",
       "    </tr>\n",
       "    <tr>\n",
       "      <th>4</th>\n",
       "      <td>That's right. A movie written, directed and pr...</td>\n",
       "      <td>0</td>\n",
       "    </tr>\n",
       "  </tbody>\n",
       "</table>\n",
       "</div>"
      ],
      "text/plain": [
       "                                              review  sentiment\n",
       "0  This picture's following will only grow as tim...          1\n",
       "1  John Candy. Need we say more? He is the main r...          0\n",
       "2  This amazing documentary gives us a glimpse in...          1\n",
       "3  Well, sadly, I can't help but feeling a little...          1\n",
       "4  That's right. A movie written, directed and pr...          0"
      ]
     },
     "execution_count": 1,
     "metadata": {},
     "output_type": "execute_result"
    }
   ],
   "source": [
    "import pandas as pd\n",
    "df = pd.read_csv('movie_data.csv')\n",
    "df.head()"
   ]
  },
  {
   "cell_type": "markdown",
   "metadata": {},
   "source": [
    "#### CountVectorizer to create the bag-of-words matrix as input to the LDA"
   ]
  },
  {
   "cell_type": "code",
   "execution_count": 2,
   "metadata": {},
   "outputs": [],
   "source": [
    "from sklearn.feature_extraction.text import CountVectorizer\n",
    "\n",
    "# we set the maximum document frequency of words to be considered to 10 percent (max_df=.1) to exclude words that occur too frequently across documents\n",
    "# we limited the number of words to be considered to the most frequently occurring 5,000 words (max_features=5000), to limit the dimensionality of this dataset to improve the inference performed by LDA\n",
    "count = CountVectorizer(stop_words='english',max_df=0.1,max_features=5000) \n",
    "X = count.fit_transform(df['review'].values)"
   ]
  },
  {
   "cell_type": "code",
   "execution_count": 6,
   "metadata": {},
   "outputs": [
    {
     "name": "stdout",
     "output_type": "stream",
     "text": [
      "[[0 0 0 ... 0 0 0]\n",
      " [0 0 0 ... 0 0 0]\n",
      " [0 0 0 ... 0 0 0]\n",
      " ...\n",
      " [0 0 0 ... 0 0 0]\n",
      " [0 0 0 ... 0 0 0]\n",
      " [0 0 0 ... 0 0 0]]\n"
     ]
    }
   ],
   "source": [
    "print(X.toarray())"
   ]
  },
  {
   "cell_type": "markdown",
   "metadata": {},
   "source": [
    "#### fit a LatentDirichletAllocation estimator"
   ]
  },
  {
   "cell_type": "code",
   "execution_count": 7,
   "metadata": {},
   "outputs": [],
   "source": [
    "from sklearn.decomposition import LatentDirichletAllocation\n",
    "lda = LatentDirichletAllocation(n_components=10,random_state=123,learning_method='batch') # 1.infer ten different topics 2. learning_method=batch or online\n",
    "X_topics = lda.fit_transform(X)"
   ]
  },
  {
   "cell_type": "code",
   "execution_count": 9,
   "metadata": {},
   "outputs": [
    {
     "data": {
      "text/plain": [
       "(10, 5000)"
      ]
     },
     "execution_count": 9,
     "metadata": {},
     "output_type": "execute_result"
    }
   ],
   "source": [
    "lda.components_.shape"
   ]
  },
  {
   "cell_type": "code",
   "execution_count": 11,
   "metadata": {},
   "outputs": [
    {
     "name": "stdout",
     "output_type": "stream",
     "text": [
      "0 [ 88.13189387 101.61940638 353.39259471 ... 378.99023995 243.98333763\n",
      "  31.47435473]\n",
      "1 [29.8829067  12.15152038 50.04699935 ...  0.10000444  0.1000031\n",
      "  2.99470342]\n",
      "2 [2.86746897e+01 1.56450064e+02 1.33723206e+02 ... 1.00011140e-01\n",
      " 1.00011088e-01 4.39233822e+00]\n",
      "3 [ 0.10455942 22.39439154 63.28077671 ...  0.10000985  0.10001133\n",
      " 12.20144048]\n",
      "4 [ 54.48391306 223.88472394  38.73832192 ... 784.38104035 534.90771222\n",
      "  26.14218539]\n",
      "5 [ 2.6416837  14.55096918  6.5787204  ... 12.92864946 44.40887665\n",
      "  2.70855062]\n",
      "6 [1.04749174e+00 5.47558452e+00 1.15354145e+02 ... 1.00007758e-01\n",
      " 1.00008324e-01 1.00296595e-01]\n",
      "7 [1.44204315e-01 1.56920225e+01 8.51591043e+00 ... 1.00009999e-01\n",
      " 1.00010215e-01 1.95272084e+02]\n",
      "8 [ 3.78863506 48.91360211 65.71883362 ...  0.10001269  0.10001536\n",
      "  5.13209602]\n",
      "9 [ 0.10002246 18.86771514 93.65049261 ...  0.10001437  0.1000141\n",
      "  0.58195101]\n"
     ]
    }
   ],
   "source": [
    "# for 10 topics, 5000 words importance\n",
    "for i,j in enumerate(lda.components_):\n",
    "    print(i,j)"
   ]
  },
  {
   "cell_type": "code",
   "execution_count": 12,
   "metadata": {},
   "outputs": [
    {
     "name": "stdout",
     "output_type": "stream",
     "text": [
      "Topic 1:\n",
      "worst minutes script awful stupid\n",
      "Topic 2:\n",
      "family mother father children girl\n",
      "Topic 3:\n",
      "american dvd music war tv\n",
      "Topic 4:\n",
      "human audience cinema art sense\n",
      "Topic 5:\n",
      "police guy car dead murder\n",
      "Topic 6:\n",
      "horror house sex blood girl\n",
      "Topic 7:\n",
      "role performance comedy actor performances\n",
      "Topic 8:\n",
      "series episode war episodes tv\n",
      "Topic 9:\n",
      "book version original effects fi\n",
      "Topic 10:\n",
      "action fight fun guy kids\n"
     ]
    }
   ],
   "source": [
    "# print the five most important words for each of the 10 topics\n",
    "n_top_words = 5\n",
    "feature_names = count.get_feature_names_out()\n",
    "for topic_idx, topic in enumerate(lda.components_):\n",
    "    print(f'Topic {(topic_idx + 1)}:')\n",
    "    print(' '.join([feature_names[i] for i in topic.argsort()[:-n_top_words - 1:-1]]))"
   ]
  },
  {
   "cell_type": "markdown",
   "metadata": {},
   "source": [
    "#### Based on reading the five most important words for each topic, you may guess that the LDA identified the following topics:\n",
    "\n",
    "    Generally bad movies (not really a topic category)\n",
    "    Movies about families\n",
    "    War movies\n",
    "    Art movies\n",
    "    Crime movies\n",
    "    Horror movies\n",
    "    Comedy movie reviews\n",
    "    Movies somehow related to TV shows\n",
    "    Movies based on books\n",
    "    Action movies\n"
   ]
  },
  {
   "cell_type": "markdown",
   "metadata": {},
   "source": [
    "#### let's verify some examples - `Action`"
   ]
  },
  {
   "cell_type": "code",
   "execution_count": 29,
   "metadata": {},
   "outputs": [
    {
     "name": "stdout",
     "output_type": "stream",
     "text": [
      "\n",
      "Action movie #1:\n",
      "This is an above average Jackie Chan flick, due to the fantastic finale and great humor, however other then that it's nothing special. All the characters are pretty cool, and the film is entertaining throughout, plus Jackie Chan is simply amazing in this!. Jackie and Wai-Man Chan had fantastic chemi ...\n",
      "\n",
      "Action movie #2:\n",
      "This is the ultimate Kung Fu movie! This is the only Kung Fu movie! This is the only Kung Fu movie I have ever seen! I am giving this movie way too much credit! My best guess for the reason for making this movie is that someone wanted to show off someone else's martial arts abilities, but realized t ...\n",
      "\n",
      "Action movie #3:\n",
      "OZ is the greatest show ever mad full stop.OZ is the greatest show ever mad full stop.OZ is the greatest show ever mad full stop.OZ is the greatest show ever mad full stop.OZ is the greatest show ever mad full stop.OZ is the greatest show ever mad full stop.OZ is the greatest show ever mad full stop ...\n",
      "\n",
      "Action movie #4:\n",
      "To start off, I love Steven Seagal, the man is a genius. But recent movies leave me to wonder, Is he trying anymore? His latest movies show almost no effort on Seagal's part. In Out of Reach, its too obvious that his lines are dubbed over. . What Seagal does in this movie is not only a slap on the f ...\n",
      "\n",
      "Action movie #5:\n",
      "It's really good to see Van Damme's film are slowly getting better of late and especially compared to C-grade flops \"Derailed\" and \"Second in command\" which were both tragic and not in a good way. The Sheperd: Border patrol is a good action flick with some really great action/fight sequences. It's g ...\n"
     ]
    }
   ],
   "source": [
    "action = X_topics[:, 9].argsort()[::-1]\n",
    "\n",
    "for iter_idx, movie_idx in enumerate(action[:5]):\n",
    "    print(f'\\nAction movie #{(iter_idx + 1)}:')\n",
    "    print(df['review'][movie_idx][:300], '...')"
   ]
  },
  {
   "cell_type": "code",
   "execution_count": null,
   "metadata": {},
   "outputs": [],
   "source": []
  }
 ],
 "metadata": {
  "kernelspec": {
   "display_name": ".dev_env",
   "language": "python",
   "name": "python3"
  },
  "language_info": {
   "codemirror_mode": {
    "name": "ipython",
    "version": 3
   },
   "file_extension": ".py",
   "mimetype": "text/x-python",
   "name": "python",
   "nbconvert_exporter": "python",
   "pygments_lexer": "ipython3",
   "version": "3.12.4"
  }
 },
 "nbformat": 4,
 "nbformat_minor": 2
}
