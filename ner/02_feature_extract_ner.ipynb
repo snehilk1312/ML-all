{
 "cells": [
  {
   "cell_type": "code",
   "execution_count": 8,
   "metadata": {},
   "outputs": [],
   "source": [
    "import spacy"
   ]
  },
  {
   "cell_type": "code",
   "execution_count": 9,
   "metadata": {},
   "outputs": [],
   "source": [
    "nlp = spacy.load(\"model/coffee_ner_blank_en_1\")"
   ]
  },
  {
   "cell_type": "code",
   "execution_count": 10,
   "metadata": {},
   "outputs": [],
   "source": [
    "def return_each_label(text):\n",
    "    doc = nlp(text.lower())\n",
    "\n",
    "    return_dict = {}\n",
    "    \n",
    "    for ent in doc.ents:\n",
    "        # print(ent.label_)\n",
    "        if ent.label_ not in return_dict.keys():\n",
    "            return_dict[ent.label_] = [ent.text]\n",
    "        else:\n",
    "            return_dict[ent.label_].append(ent.text)\n",
    "    return return_dict"
   ]
  },
  {
   "cell_type": "code",
   "execution_count": 11,
   "metadata": {},
   "outputs": [
    {
     "data": {
      "text/plain": [
       "{'ESTATE': ['ratnagiri'],\n",
       " 'LOCATION': ['bababudangiri'],\n",
       " 'ELEVATION': ['3200ft', '4200ft'],\n",
       " 'TASTING NOTES': ['pear', 'pomelo', 'tangerine']}"
      ]
     },
     "execution_count": 11,
     "metadata": {},
     "output_type": "execute_result"
    }
   ],
   "source": [
    "text = \"\"\"\n",
    "Sourced from Ratnagiri estate, located in an environmentally abundant corner of the majestic South Indian Western Ghats near Bababudangiri, at an elevation of 3200ft to 4200ft. With our medium light roast and notes of Pear, pomelo & tangerine, we recommend this coffee for any type of drip or pour over methods.\n",
    "\"\"\"\n",
    "return_each_label(text)"
   ]
  },
  {
   "cell_type": "code",
   "execution_count": 12,
   "metadata": {},
   "outputs": [
    {
     "data": {
      "text/plain": [
       "{'ESTATE': ['moganad'],\n",
       " 'LOCATION': ['tamil nadu'],\n",
       " 'ROAST LEVEL': ['medium dark'],\n",
       " 'TASTING NOTES': ['cocoa', 'caramel', 'nut'],\n",
       " 'PROCESSING': ['washed']}"
      ]
     },
     "execution_count": 12,
     "metadata": {},
     "output_type": "execute_result"
    }
   ],
   "source": [
    "text =\"\"\"\n",
    "Single origin Indian Coffee From Moganad Estate, Tamil Nadu which is a 100% Arabiaca coffee with \n",
    "an exquisite blend of balanced sweetness and brightness. A Medium Dark Roast coffee with \n",
    "flavor notes of Cocoa, Caramel and Nut which can also be enjoyed in a French press, moka pot, aeropress & espresso .\n",
    "It is washed processed, grown at an altitude of around 4430 ft\n",
    "\"\"\"\n",
    "\n",
    "return_each_label(text)"
   ]
  },
  {
   "cell_type": "code",
   "execution_count": 13,
   "metadata": {},
   "outputs": [
    {
     "data": {
      "text/plain": [
       "{'TASTING NOTES': ['toffee', 'hazelnut', 'milk chocolate'],\n",
       " 'ROAST LEVEL': ['espresso'],\n",
       " 'LOCATION': ['chikmagalur'],\n",
       " 'ELEVATION': ['1400m'],\n",
       " 'PROCESSING': ['washed']}"
      ]
     },
     "execution_count": 13,
     "metadata": {},
     "output_type": "execute_result"
    }
   ],
   "source": [
    "text=\"\"\"\n",
    "tasting notes : toffee , hazelnut , milk chocolate roast level : espresso location-chikmagalur , kn \n",
    "altitude- 1400m varietal- selection 13 \n",
    "process-washed weight-250gm/1kg;\n",
    "\"\"\"\n",
    "return_each_label(text.lower())"
   ]
  },
  {
   "cell_type": "code",
   "execution_count": 14,
   "metadata": {},
   "outputs": [
    {
     "data": {
      "text/plain": [
       "{'ESTATE': ['bettadamalali',\n",
       "  'bettadamalali',\n",
       "  'bettadamalali',\n",
       "  'bettadamalali'],\n",
       " 'COFFEE TYPE': ['arabicas', 'arabica', 'arabicas', 'arabica'],\n",
       " 'BODY': ['sweet', 'rich', 'sweet', 'rich'],\n",
       " 'TEXTURE': ['creamy', 'creamy'],\n",
       " 'TASTING NOTES': ['sweet honey', 'dark cocoa', 'sweet honey', 'dark cocoa'],\n",
       " 'AROMA': ['roasted nuts', 'roasted nuts']}"
      ]
     },
     "execution_count": 14,
     "metadata": {},
     "output_type": "execute_result"
    }
   ],
   "source": [
    "text = \"\"\" \n",
    "\n",
    "our search for the immaculate espresso began when we were embraced by the warm welcome of ramdev and his parents shantha and nagesh as we drove through the gates of bettadamalali estate in early 2023 . a pristine farm nestled in the baba budan giri hills of chikmagalur , this place is more than a commercial operation – it is a garden of nature’s best delights . with scientific approaches to farming complemented by highly structured operations , bettadamalali produce some of the best washed arabicas we have encountered in recent times . the farm has been a long-term partner to our sister enterprise indcaffe – who have over the years exported several hundreds of tons of washed arabica for them to specialty houses in europe . we decided to grab our own little share of the treasure this year as we cycled through multiple lots to find this gem that would help us curate a delicious espresso . expect a sweet , rich-bodied liquor in your cup with a viscous creamy texture that will hug your palate closely before letting go . sweet honey and dark cocoa notes preceded by a savory aroma of roasted nuts together create a mesmerizing espresso that is testament to the great work of art that has been accomplished in the fields of bettadamalali estate . enjoy it black or hit it with milk ! honey cocoa roasted nuts our search for the immaculate espresso began when we were embraced by the warm welcome of ramdev and his parents shantha and nagesh as we drove through the gates of bettadamalali estate in early 2023 . a pristine farm nestled in the baba budan giri hills of chikmagalur , this place is more than a commercial operation – it is a garden of nature’s best delights . with scientific approaches to farming complemented by highly structured operations , bettadamalali produce some of the best washed arabicas we have encountered in recent times . the farm has been a long-term partner to our sister enterprise indcaffe – who have over the years exported several hundreds of tons of washed arabica for them to specialty houses in europe . we decided to grab our own little share of the treasure this year as we cycled through multiple lots to find this gem that would help us curate a delicious espresso . expect a sweet , rich-bodied liquor in your cup with a viscous creamy texture that will hug your palate closely before letting go . sweet honey and dark cocoa notes preceded by a savory aroma of roasted nuts together create a mesmerizing espresso that is testament to the great work of art that has been accomplished in the fields of bettadamalali estate . enjoy it black or hit it with milk\n",
    "\n",
    "\"\"\" \n",
    "return_each_label(text.lower())"
   ]
  }
 ],
 "metadata": {
  "kernelspec": {
   "display_name": ".dev_env",
   "language": "python",
   "name": "python3"
  },
  "language_info": {
   "codemirror_mode": {
    "name": "ipython",
    "version": 3
   },
   "file_extension": ".py",
   "mimetype": "text/x-python",
   "name": "python",
   "nbconvert_exporter": "python",
   "pygments_lexer": "ipython3",
   "version": "3.12.5"
  }
 },
 "nbformat": 4,
 "nbformat_minor": 2
}
