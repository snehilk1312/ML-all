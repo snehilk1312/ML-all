{
 "cells": [
  {
   "cell_type": "code",
   "execution_count": 1,
   "metadata": {},
   "outputs": [],
   "source": [
    "import spacy\n",
    "import re"
   ]
  },
  {
   "cell_type": "code",
   "execution_count": 2,
   "metadata": {},
   "outputs": [],
   "source": [
    "nlp = spacy.load(\"model_shareable/coffee_ner_blank_en_1\")"
   ]
  },
  {
   "cell_type": "code",
   "execution_count": 3,
   "metadata": {},
   "outputs": [],
   "source": [
    "def return_each_label(text):\n",
    "    doc = nlp(text.lower())\n",
    "\n",
    "    return_dict = {}\n",
    "    \n",
    "    for ent in doc.ents:\n",
    "        # print(ent.label_)\n",
    "        if ent.label_ not in return_dict.keys():\n",
    "            return_dict[ent.label_] = [ent.text]\n",
    "        else:\n",
    "            return_dict[ent.label_].append(ent.text)\n",
    "    return return_dict"
   ]
  },
  {
   "cell_type": "code",
   "execution_count": 4,
   "metadata": {},
   "outputs": [],
   "source": [
    "# copied from my coffee repo\n",
    "def text_cleaner(input_string):\n",
    "    # Step 1: Convert to lowercase\n",
    "    if not input_string:\n",
    "        return None \n",
    "    if input_string=='Not available' or input_string=='Blue Tokai Coffee Roasters':\n",
    "        return None\n",
    "\n",
    "    cleaned = input_string.lower()\n",
    "    \n",
    "    # Step 2: Remove specific unwanted strings like 'nbsp', 'NBSP'\n",
    "    cleaned = re.sub(r'(\\bnbsp\\b|\\bNBSP\\b)', '', cleaned)\n",
    "    cleaned = cleaned.replace('grown at 4200 msl','')\n",
    "    cleaned = cleaned.replace('&amp','')\n",
    "    cleaned = cleaned.replace('&#39;',\"'\")\n",
    "\n",
    "\n",
    "    # Step 3: Normalize multiple spaces, newlines, and punctuation marks to a single one\n",
    "    cleaned = re.sub(r'\\s+', ' ', cleaned)  # Replace multiple spaces/newlines with a single space\n",
    "    cleaned = re.sub(r'([.,!?&|;:()\\[\\]{}-])\\1+', r'\\1', cleaned)  # Replace multiple punctuation marks with a single one\n",
    "    \n",
    "    # Step 4: Ensure there is always a space before and after punctuation (except single quotes)\n",
    "    cleaned = re.sub(r\"([.,!?&;:()\\[\\]{}'\\\"-])\", r\" \\1 \", cleaned)  # Space around punctuation\n",
    "\n",
    "    cleaned = re.sub(r'\\s+', ' ', cleaned)  # Remove any additional spaces created\n",
    "    cleaned = cleaned.strip()     # Remove any additional space at end or start\n",
    "\n",
    "    # Step 5: Remove punctuation at the start or end of the line\n",
    "    cleaned = re.sub(r'^[.,!?&;:\\[\\]{}-]+|[.,!?&;:\\[\\]{}-]+$', '', cleaned)\n",
    "\n",
    "    # custom\n",
    "\n",
    "    # removing this specific set coz problems in NER\n",
    "    # cleaned = re.sub(r\"\\s'\\s\", \"'\", cleaned)\n",
    "    # cleaned = re.sub(r'\\s\"\\s', '\"', cleaned)\n",
    "    # cleaned = re.sub(r\"\\s-\\s\", \"-\", cleaned)\n",
    "\n",
    "\n",
    "    # Step 6: Final strip to remove leading/trailing whitespace\n",
    "    cleaned = cleaned.strip()\n",
    "\n",
    "    return cleaned"
   ]
  },
  {
   "cell_type": "code",
   "execution_count": 5,
   "metadata": {},
   "outputs": [],
   "source": [
    "text = \"\"\"\n",
    "Origin: Kerehaklu Estate, Aldur, Chikmagalur.\n",
    "A single estate, naturally processed, city roast coffee. Grown at an average elevation of 1200masl.\n",
    "\n",
    "Biodiversity: Block frequented by bison, barking deer, green pigeon and whistling schoolboy bird.\n",
    "\n",
    "Process: Natural – Genetics: S6 Arabica – Block: Huli Bande Patte – Roast profile: City Roast – Drying: 31 days outside on raised beds followed by polyhouse – Ageing: in liner sacks for 40 days before milling\n",
    "\n",
    "Sensory Experience: The essence of forest berries intertwined with sweet spices. A velvety sip that reveals the gradual embrace of rich milk chocolate, leaving behind a lingering aftertaste that caresses your palate with its buttery texture. Its bold body and invigorating acidity makes Pranoy’s Pride a harmonious and truly satisfying cup.\n",
    "\n",
    "Terroir: This coffee flourishes amidst the lush indigenous Kerehaklu forest. The estate spans 270 acres in the Western Ghats, emphasizing biodiversity conservation.\n",
    "\n",
    "Transform your coffee ritual: into an extraordinary sensory journey by immersing yourself in the soundscape by Anandit Sachdev, exclusively designed to complement the unique essence of this exceptional coffee! \n",
    "\n",
    "https://marcscoffeesmusicprogram.bandcamp.com/track/droplets\n",
    "\"\"\""
   ]
  },
  {
   "cell_type": "code",
   "execution_count": 6,
   "metadata": {},
   "outputs": [
    {
     "data": {
      "text/plain": [
       "{'ESTATE': ['kerehaklu', 'kerehaklu'],\n",
       " 'LOCATION': ['chikmagalur'],\n",
       " 'NAME': ['bison'],\n",
       " 'PROCESSING': ['natural –'],\n",
       " 'COFFEE TYPE': ['arabica'],\n",
       " 'TASTING NOTES': ['milk chocolate'],\n",
       " 'AFTERTASTE': ['lingering'],\n",
       " 'ACIDITY': ['invigorating']}"
      ]
     },
     "execution_count": 6,
     "metadata": {},
     "output_type": "execute_result"
    }
   ],
   "source": [
    "return_each_label(text_cleaner(text))"
   ]
  },
  {
   "cell_type": "code",
   "execution_count": 7,
   "metadata": {},
   "outputs": [
    {
     "data": {
      "text/plain": [
       "{'ESTATE': ['moganad'],\n",
       " 'LOCATION': ['tamil nadu'],\n",
       " 'ROAST LEVEL': ['medium dark'],\n",
       " 'TASTING NOTES': ['cocoa', 'caramel', 'nut'],\n",
       " 'PROCESSING': ['washed']}"
      ]
     },
     "execution_count": 7,
     "metadata": {},
     "output_type": "execute_result"
    }
   ],
   "source": [
    "text =\"\"\"\n",
    "Single origin Indian Coffee From Moganad Estate, Tamil Nadu which is a 100% Arabiaca coffee with \n",
    "an exquisite blend of balanced sweetness and brightness. A Medium Dark Roast coffee with \n",
    "flavor notes of Cocoa, Caramel and Nut which can also be enjoyed in a French press, moka pot, aeropress & espresso .\n",
    "It is washed processed, grown at an altitude of around 4430 ft\n",
    "\"\"\"\n",
    "\n",
    "return_each_label(text)"
   ]
  },
  {
   "cell_type": "code",
   "execution_count": 8,
   "metadata": {},
   "outputs": [
    {
     "data": {
      "text/plain": [
       "{'TASTING NOTES': ['toffee', 'hazelnut', 'milk chocolate'],\n",
       " 'ROAST LEVEL': ['espresso'],\n",
       " 'LOCATION': ['chikmagalur'],\n",
       " 'ELEVATION': ['1400m'],\n",
       " 'PROCESSING': ['washed']}"
      ]
     },
     "execution_count": 8,
     "metadata": {},
     "output_type": "execute_result"
    }
   ],
   "source": [
    "text=\"\"\"\n",
    "tasting notes : toffee , hazelnut , milk chocolate roast level : espresso location-chikmagalur , kn \n",
    "altitude- 1400m varietal- selection 13 \n",
    "process-washed weight-250gm/1kg;\n",
    "\"\"\"\n",
    "return_each_label(text.lower())"
   ]
  },
  {
   "cell_type": "code",
   "execution_count": 9,
   "metadata": {},
   "outputs": [
    {
     "data": {
      "text/plain": [
       "{'ESTATE': ['bettadamalali',\n",
       "  'bettadamalali',\n",
       "  'bettadamalali',\n",
       "  'bettadamalali'],\n",
       " 'COFFEE TYPE': ['arabicas', 'arabica', 'arabicas', 'arabica'],\n",
       " 'BODY': ['sweet', 'rich', 'sweet', 'rich'],\n",
       " 'TEXTURE': ['creamy', 'creamy'],\n",
       " 'TASTING NOTES': ['sweet honey', 'dark cocoa', 'sweet honey', 'dark cocoa'],\n",
       " 'AROMA': ['roasted nuts', 'roasted nuts']}"
      ]
     },
     "execution_count": 9,
     "metadata": {},
     "output_type": "execute_result"
    }
   ],
   "source": [
    "text = \"\"\" \n",
    "\n",
    "our search for the immaculate espresso began when we were embraced by the warm welcome of ramdev and his parents shantha and nagesh as we drove through the gates of bettadamalali estate in early 2023 . a pristine farm nestled in the baba budan giri hills of chikmagalur , this place is more than a commercial operation – it is a garden of nature’s best delights . with scientific approaches to farming complemented by highly structured operations , bettadamalali produce some of the best washed arabicas we have encountered in recent times . the farm has been a long-term partner to our sister enterprise indcaffe – who have over the years exported several hundreds of tons of washed arabica for them to specialty houses in europe . we decided to grab our own little share of the treasure this year as we cycled through multiple lots to find this gem that would help us curate a delicious espresso . expect a sweet , rich-bodied liquor in your cup with a viscous creamy texture that will hug your palate closely before letting go . sweet honey and dark cocoa notes preceded by a savory aroma of roasted nuts together create a mesmerizing espresso that is testament to the great work of art that has been accomplished in the fields of bettadamalali estate . enjoy it black or hit it with milk ! honey cocoa roasted nuts our search for the immaculate espresso began when we were embraced by the warm welcome of ramdev and his parents shantha and nagesh as we drove through the gates of bettadamalali estate in early 2023 . a pristine farm nestled in the baba budan giri hills of chikmagalur , this place is more than a commercial operation – it is a garden of nature’s best delights . with scientific approaches to farming complemented by highly structured operations , bettadamalali produce some of the best washed arabicas we have encountered in recent times . the farm has been a long-term partner to our sister enterprise indcaffe – who have over the years exported several hundreds of tons of washed arabica for them to specialty houses in europe . we decided to grab our own little share of the treasure this year as we cycled through multiple lots to find this gem that would help us curate a delicious espresso . expect a sweet , rich-bodied liquor in your cup with a viscous creamy texture that will hug your palate closely before letting go . sweet honey and dark cocoa notes preceded by a savory aroma of roasted nuts together create a mesmerizing espresso that is testament to the great work of art that has been accomplished in the fields of bettadamalali estate . enjoy it black or hit it with milk\n",
    "\n",
    "\"\"\" \n",
    "return_each_label(text.lower())"
   ]
  }
 ],
 "metadata": {
  "kernelspec": {
   "display_name": ".dev_env",
   "language": "python",
   "name": "python3"
  },
  "language_info": {
   "codemirror_mode": {
    "name": "ipython",
    "version": 3
   },
   "file_extension": ".py",
   "mimetype": "text/x-python",
   "name": "python",
   "nbconvert_exporter": "python",
   "pygments_lexer": "ipython3",
   "version": "3.12.5"
  }
 },
 "nbformat": 4,
 "nbformat_minor": 2
}
